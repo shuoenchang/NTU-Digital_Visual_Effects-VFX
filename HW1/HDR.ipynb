{
 "cells": [
  {
   "cell_type": "code",
   "execution_count": 1,
   "metadata": {},
   "outputs": [],
   "source": [
    "import exifread\n",
    "import cv2\n",
    "import os\n",
    "import numpy as np\n",
    "import matplotlib.pyplot as plt\n",
    "from copy import deepcopy"
   ]
  },
  {
   "cell_type": "code",
   "execution_count": 2,
   "metadata": {},
   "outputs": [],
   "source": [
    "def get_exposureTime(imgPath):\n",
    "    \n",
    "    with open(imgPath, 'rb') as f:\n",
    "        tags = exifread.process_file(f, stop_tag='EXIF ExposureTime') \n",
    "    if tags:\n",
    "        timeStr = str(tags['EXIF ExposureTime'].values[0])\n",
    "        if len(timeStr.split('/'))==2:\n",
    "            a, b = np.float32(timeStr.split('/'))\n",
    "            exposureTime = a/b\n",
    "        else:\n",
    "            exposureTime = np.float32(timeStr)\n",
    "        return exposureTime"
   ]
  },
  {
   "cell_type": "code",
   "execution_count": 3,
   "metadata": {},
   "outputs": [],
   "source": [
    "def read_image(dirname):\n",
    "    \n",
    "    images = []\n",
    "    exposureTimes = []\n",
    "\n",
    "    for filename in np.sort(os.listdir(dirname)):\n",
    "        if os.path.splitext(filename)[1] in ['.JPG', '.png']:\n",
    "            imgPath = os.path.join(dirname, filename)\n",
    "            im = cv2.imread(imgPath)\n",
    "            images += [im]\n",
    "            exposureTimes += [get_exposureTime(imgPath)]\n",
    "    if not exposureTimes[0]: \n",
    "        exposureTimes = []\n",
    "        with open(os.path.join(dirname, 'time.txt'), 'r') as f:\n",
    "            lines = f.readlines()\n",
    "        for line in lines:\n",
    "            exposureTimes += [1/np.float(line)]\n",
    "        \n",
    "    return images, exposureTimes"
   ]
  },
  {
   "cell_type": "code",
   "execution_count": 4,
   "metadata": {},
   "outputs": [],
   "source": [
    "def show_image(img):\n",
    "    cv2.namedWindow('My Image', cv2.WINDOW_NORMAL)\n",
    "    cv2.imshow('My Image', img)\n",
    "    cv2.waitKey(0)\n",
    "    cv2.destroyAllWindows()"
   ]
  },
  {
   "cell_type": "code",
   "execution_count": 5,
   "metadata": {},
   "outputs": [],
   "source": [
    "def shift_image(source, dx, dy):\n",
    "    M = np.float32([[1, 0, dx], [0, 1, dy]])\n",
    "    h, w = source.shape[:2]\n",
    "    result = cv2.warpAffine(source, M, (w, h))\n",
    "    return result"
   ]
  },
  {
   "cell_type": "code",
   "execution_count": 6,
   "metadata": {},
   "outputs": [],
   "source": [
    "def count_error(source, target, maskSrc, maskTar):\n",
    "    # img1 XOR img2 AND mask\n",
    "    error = np.logical_xor(source, target)\n",
    "    error = np.logical_and(error, maskSrc)\n",
    "    error = np.logical_and(error, maskTar)\n",
    "    return np.sum(error)\n",
    "    \n",
    "def find_shift(source, target, x, y, thres=4):\n",
    "    h, w = source.shape\n",
    "    minError = np.inf\n",
    "    bestX, bestY = 0, 0\n",
    "    \n",
    "    median = np.mean(source)\n",
    "    bitSrc = cv2.inRange(source, median, median)\n",
    "    maskSrc = cv2.inRange(source, median-thres, median+thres)\n",
    "    \n",
    "    median = np.mean(target)\n",
    "    bitTar = cv2.inRange(target, median, median)\n",
    "    maskTar = cv2.inRange(target, median-thres, median+thres)\n",
    "    \n",
    "    for dx in [0,-1,1]:\n",
    "        for dy in [0,-1,1]:\n",
    "            shiftSrc = shift_image(bitSrc, dx, dy)\n",
    "            shiftMaskSrc = shift_image(maskSrc, dx, dy)\n",
    "            \n",
    "            error = count_error(shiftSrc, bitTar, maskSrc, maskTar)\n",
    "            if error<minError:\n",
    "                minError = error\n",
    "                bestX, bestY = dx, dy\n",
    "            \n",
    "    return x+bestX, x+bestY"
   ]
  },
  {
   "cell_type": "code",
   "execution_count": 7,
   "metadata": {},
   "outputs": [],
   "source": [
    "def align_image(source, target):\n",
    "    h, w = source.shape\n",
    "    \n",
    "    if h<128 or w<128:\n",
    "        dx, dy = find_shift(source, target, 0, 0)\n",
    "    else:\n",
    "        halfSrc = cv2.resize(source, (w//2, h//2))\n",
    "        halfTar = cv2.resize(target, (w//2, h//2))\n",
    "        prevX, prevY = align_image(halfSrc, halfTar)\n",
    "        dx, dy = find_shift(source, target, prevX*2, prevY*2)\n",
    "    return dx, dy"
   ]
  },
  {
   "cell_type": "code",
   "execution_count": 8,
   "metadata": {},
   "outputs": [],
   "source": [
    "def gsolve(Z, B, l, w):\n",
    "    '''\n",
    "    Arguments:\n",
    "        Z(i,j): the pixel values of pixel location number i in image j \n",
    "        B(j)  : the log delta t, or log shutter speed, for image j\n",
    "        l     : lamdba, the constant that determines the amount of smoothness\n",
    "        w(z)  : the weighting function value for pixel value z\n",
    "        \n",
    "    Returns:\n",
    "        g(z)  : the log exposure corresponding to pixel value z\n",
    "        lE(i) : the log film irradiance at pixel location i\n",
    "    '''\n",
    "    \n",
    "    n = 256\n",
    "    A = np.zeros((Z.shape[0]*Z.shape[1]+1+(n-2), n+Z.shape[0])) \n",
    "    b = np.zeros((A.shape[0], 1))\n",
    "    \n",
    "    # Include the data−fitting equations\n",
    "    k = 0 \n",
    "    \n",
    "    for i in range(0, Z.shape[0]):\n",
    "        for j in range(0, Z.shape[1]):\n",
    "            wij = w[Z[i,j]]\n",
    "            A[k, Z[i,j]] = wij\n",
    "            A[k, n+i] = -wij\n",
    "            b[k, 0] = wij*B[j]\n",
    "            k+=1\n",
    "    \n",
    "    # Fix the curve by setting its middle value to 0\n",
    "    A[k, 127] = 1\n",
    "    k+=1\n",
    "    \n",
    "    # Include the smoothness equations\n",
    "    for i in range(1, n-1):\n",
    "        A[k, i-1] =    l*w[i]\n",
    "        A[k, i]   = -2*l*w[i]\n",
    "        A[k, i+1] =    l*w[i]\n",
    "        k+=1\n",
    "    \n",
    "    # Solve the system using SVD\n",
    "    x = np.linalg.lstsq(A, b, rcond=None)[0]\n",
    "    g = x[:n].reshape(-1)\n",
    "    lE = x[n:].reshape(-1)\n",
    "    return g, lE"
   ]
  },
  {
   "cell_type": "code",
   "execution_count": 27,
   "metadata": {},
   "outputs": [],
   "source": [
    "images, exposureTimes = read_image('data/dataset0')\n",
    "smallImages = deepcopy(images)\n",
    "smallRow = 20\n",
    "smallCol = 20\n",
    "\n",
    "for i in range(1, len(images)):\n",
    "    img1 = cv2.cvtColor(images[i], cv2.COLOR_BGR2GRAY)\n",
    "    img2 = cv2.cvtColor(images[i-1], cv2.COLOR_BGR2GRAY)\n",
    "    dx, dy = align_image(img1, img2)\n",
    "    images[i] = shift_image(images[i], dx, dy) # (3024, 4032, 3)\n",
    "    \n",
    "for i in range(0, len(images)):\n",
    "    smallImages[i] = cv2.resize(images[i], (smallRow, smallCol))\n",
    "\n",
    "smallImages = np.array(smallImages)\n",
    "smallImages = np.reshape(smallImages, (len(smallImages),-1,3))\n",
    "smallImages = np.transpose(smallImages, (1, 0, 2))"
   ]
  },
  {
   "cell_type": "code",
   "execution_count": 28,
   "metadata": {},
   "outputs": [],
   "source": [
    "weight = np.zeros(256)\n",
    "for i in range(256):\n",
    "    weight[i] = min(i, 256-i)\n",
    "#weight/=max(weight)"
   ]
  },
  {
   "cell_type": "code",
   "execution_count": 37,
   "metadata": {},
   "outputs": [],
   "source": [
    "logTimes = np.log(exposureTimes)\n",
    "g = np.zeros((3, 256))\n",
    "lE = np.zeros((3, smallRow*smallCol))\n",
    "\n",
    "for channel in range(3):\n",
    "    g[channel], lE[channel] = gsolve(smallImages[:,:,channel], logTimes, 60, weight)"
   ]
  },
  {
   "cell_type": "code",
   "execution_count": 38,
   "metadata": {},
   "outputs": [
    {
     "data": {
      "image/png": "[encoded data removed]",
      "text/plain": [
       "<Figure size 432x288 with 1 Axes>"
      ]
     },
     "metadata": {
      "needs_background": "light"
     },
     "output_type": "display_data"
    }
   ],
   "source": [
    "plt.figure()\n",
    "plt.plot(g[0], np.arange(256), color='b')\n",
    "plt.plot(g[1], np.arange(256), color='g')\n",
    "plt.plot(g[2], np.arange(256), color='r')\n",
    "plt.show()"
   ]
  },
  {
   "cell_type": "code",
   "execution_count": 19,
   "metadata": {},
   "outputs": [
    {
     "data": {
      "text/plain": [
       "-1.9539925233402755e-14"
      ]
     },
     "execution_count": 19,
     "metadata": {},
     "output_type": "execute_result"
    }
   ],
   "source": [
    "g[0][127]"
   ]
  },
  {
   "cell_type": "code",
   "execution_count": null,
   "metadata": {},
   "outputs": [],
   "source": []
  }
 ],
 "metadata": {
  "kernelspec": {
   "display_name": "Python 3",
   "language": "python",
   "name": "python3"
  },
  "language_info": {
   "codemirror_mode": {
    "name": "ipython",
    "version": 3
   },
   "file_extension": ".py",
   "mimetype": "text/x-python",
   "name": "python",
   "nbconvert_exporter": "python",
   "pygments_lexer": "ipython3",
   "version": "3.8.1"
  }
 },
 "nbformat": 4,
 "nbformat_minor": 4
}

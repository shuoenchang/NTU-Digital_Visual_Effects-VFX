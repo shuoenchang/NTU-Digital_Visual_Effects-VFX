{
 "cells": [
  {
   "cell_type": "code",
   "execution_count": 1,
   "metadata": {},
   "outputs": [],
   "source": [
    "import exifread\n",
    "import cv2\n",
    "import os\n",
    "import numpy as np"
   ]
  },
  {
   "cell_type": "code",
   "execution_count": 2,
   "metadata": {},
   "outputs": [],
   "source": [
    "def get_exposureTime(imgPath):\n",
    "    \n",
    "    with open(imgPath, 'rb') as f:\n",
    "        tags = exifread.process_file(f, stop_tag='EXIF ExposureTime') \n",
    "    timeStr = str(tags['EXIF ExposureTime'].values[0])\n",
    "    a, b = np.float32(timeStr.split('/'))\n",
    "    exposureTime = a/b\n",
    "    \n",
    "    return exposureTime"
   ]
  },
  {
   "cell_type": "code",
   "execution_count": 3,
   "metadata": {},
   "outputs": [],
   "source": [
    "def read_image(dirname):\n",
    "    \n",
    "    images = []\n",
    "    exposureTimes = []\n",
    "\n",
    "    for filename in np.sort(os.listdir(dirname)):\n",
    "        if os.path.splitext(filename)[1] in ['.JPG']:\n",
    "            imgPath = os.path.join(dirname, filename)\n",
    "            im = cv2.imread(imgPath)\n",
    "            images += [im]\n",
    "            exposureTimes += [get_exposureTime(imgPath)]\n",
    "\n",
    "    return images, exposureTimes"
   ]
  },
  {
   "cell_type": "code",
   "execution_count": 4,
   "metadata": {},
   "outputs": [
    {
     "name": "stdout",
     "output_type": "stream",
     "text": [
      "[0.00013500743, 0.0003030303, 0.00032299742, 0.00065789477, 0.001242236, 0.001996008, 0.0028490028, 0.005, 0.00625, 0.01, 0.0125, 0.022222223, 0.033333335]\n"
     ]
    }
   ],
   "source": [
    "images, exposureTimes = read_image('data/set2')\n",
    "print(exposureTimes)"
   ]
  },
  {
   "cell_type": "code",
   "execution_count": null,
   "metadata": {},
   "outputs": [],
   "source": []
  }
 ],
 "metadata": {
  "kernelspec": {
   "display_name": "Python 3",
   "language": "python",
   "name": "python3"
  },
  "language_info": {
   "codemirror_mode": {
    "name": "ipython",
    "version": 3
   },
   "file_extension": ".py",
   "mimetype": "text/x-python",
   "name": "python",
   "nbconvert_exporter": "python",
   "pygments_lexer": "ipython3",
   "version": "3.8.1"
  }
 },
 "nbformat": 4,
 "nbformat_minor": 4
}

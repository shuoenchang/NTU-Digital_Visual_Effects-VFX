{
 "cells": [
  {
   "cell_type": "code",
   "execution_count": 1,
   "metadata": {},
   "outputs": [],
   "source": [
    "import exifread\n",
    "import cv2\n",
    "import os\n",
    "import numpy as np"
   ]
  },
  {
   "cell_type": "code",
   "execution_count": 2,
   "metadata": {},
   "outputs": [],
   "source": [
    "def get_exposureTime(imgPath):\n",
    "    \n",
    "    with open(imgPath, 'rb') as f:\n",
    "        tags = exifread.process_file(f, stop_tag='EXIF ExposureTime') \n",
    "    timeStr = str(tags['EXIF ExposureTime'].values[0])\n",
    "    if len(timeStr.split('/'))==2:\n",
    "        a, b = np.float32(timeStr.split('/'))\n",
    "        exposureTime = a/b\n",
    "    else:\n",
    "        exposureTime = np.float32(timeStr)\n",
    "    \n",
    "    return exposureTime"
   ]
  },
  {
   "cell_type": "code",
   "execution_count": 3,
   "metadata": {},
   "outputs": [],
   "source": [
    "def read_image(dirname):\n",
    "    \n",
    "    images = []\n",
    "    exposureTimes = []\n",
    "\n",
    "    for filename in np.sort(os.listdir(dirname)):\n",
    "        if os.path.splitext(filename)[1] in ['.JPG']:\n",
    "            imgPath = os.path.join(dirname, filename)\n",
    "            im = cv2.imread(imgPath)\n",
    "            images += [im]\n",
    "            exposureTimes += [get_exposureTime(imgPath)]\n",
    "\n",
    "    return images, exposureTimes"
   ]
  },
  {
   "cell_type": "code",
   "execution_count": 4,
   "metadata": {},
   "outputs": [],
   "source": [
    "def show_image(img):\n",
    "    cv2.namedWindow('My Image', cv2.WINDOW_NORMAL)\n",
    "    cv2.imshow('My Image', img)\n",
    "    cv2.waitKey(0)\n",
    "    cv2.destroyAllWindows()"
   ]
  },
  {
   "cell_type": "code",
   "execution_count": 5,
   "metadata": {},
   "outputs": [],
   "source": [
    "def shift_image(source, dx, dy):\n",
    "    M = np.float32([[1, 0, dx], [0, 1, dy]])\n",
    "    h, w = source.shape[:2]\n",
    "    result = cv2.warpAffine(source, M, (w, h))\n",
    "    return result"
   ]
  },
  {
   "cell_type": "code",
   "execution_count": 6,
   "metadata": {},
   "outputs": [],
   "source": [
    "def count_error(source, target, maskSrc, maskTar):\n",
    "    # img1 XOR img2 AND mask\n",
    "    error = np.logical_xor(source, target)\n",
    "    error = np.logical_and(error, maskSrc)\n",
    "    error = np.logical_and(error, maskTar)\n",
    "    return np.sum(error)\n",
    "    \n",
    "def find_shift(source, target, x, y, thres=4):\n",
    "    h, w = source.shape\n",
    "    minError = np.inf\n",
    "    bestX, bestY = 0, 0\n",
    "    \n",
    "    median = np.mean(source)\n",
    "    bitSrc = cv2.inRange(source, median, median)\n",
    "    maskSrc = cv2.inRange(source, median-thres, median+thres)\n",
    "    \n",
    "    median = np.mean(target)\n",
    "    bitTar = cv2.inRange(target, median, median)\n",
    "    maskTar = cv2.inRange(target, median-thres, median+thres)\n",
    "    \n",
    "    for dx in [0,-1,1]:\n",
    "        for dy in [0,-1,1]:\n",
    "            shiftSrc = shift_image(bitSrc, dx, dy)\n",
    "            shiftMaskSrc = shift_image(maskSrc, dx, dy)\n",
    "            \n",
    "            error = count_error(shiftSrc, bitTar, maskSrc, maskTar)\n",
    "            if error<minError:\n",
    "                minError = error\n",
    "                bestX, bestY = dx, dy\n",
    "            \n",
    "    return x+bestX, x+bestY"
   ]
  },
  {
   "cell_type": "code",
   "execution_count": 7,
   "metadata": {},
   "outputs": [],
   "source": [
    "def align_image(source, target):\n",
    "    h, w = source.shape\n",
    "    \n",
    "    if h<128 or w<128:\n",
    "        dx, dy = find_shift(source, target, 0, 0)\n",
    "    else:\n",
    "        halfSrc = cv2.resize(source, (w//2, h//2))\n",
    "        halfTar = cv2.resize(target, (w//2, h//2))\n",
    "        prevX, prevY = align_image(halfSrc, halfTar)\n",
    "        dx, dy = find_shift(source, target, prevX*2, prevY*2)\n",
    "    return dx, dy"
   ]
  },
  {
   "cell_type": "code",
   "execution_count": 8,
   "metadata": {},
   "outputs": [
    {
     "name": "stdout",
     "output_type": "stream",
     "text": [
      "[0.00013500743, 0.0003030303, 0.00032299742, 0.00065789477, 0.001242236, 0.001996008, 0.0028490028, 0.005, 0.00625, 0.01, 0.0125, 0.022222223, 0.033333335]\n"
     ]
    }
   ],
   "source": [
    "images, exposureTimes = read_image('data/set2')\n",
    "print(exposureTimes)\n",
    "for i in range(1, len(images)):\n",
    "    img1 = cv2.cvtColor(images[i], cv2.COLOR_BGR2GRAY)\n",
    "    img2 = cv2.cvtColor(images[i-1], cv2.COLOR_BGR2GRAY)\n",
    "    dx, dy = align_image(img1, img2)\n",
    "    images[i] = shift_image(images[i], dx, dy)"
   ]
  },
  {
   "cell_type": "code",
   "execution_count": 10,
   "metadata": {},
   "outputs": [],
   "source": [
    "def gsolve(Z, B, l, w):\n",
    "    '''\n",
    "    Arguments:\n",
    "        Z(i,j): the pixel values of pixel location number i in image j \n",
    "        B(j)  : the log delta t, or log shutter speed, for image j\n",
    "        l     : lamdba, the constant that determines the amount of smoothness\n",
    "        w(z)  : the weighting function value for pixel value z\n",
    "        \n",
    "    Returns:\n",
    "        g(z)  : the log exposure corresponding to pixel value z\n",
    "        lE(i) : the log film irradiance at pixel location i\n",
    "    '''\n",
    "    \n",
    "    n = 256\n",
    "    A = np.zeros(Z.shape[0]*Z.shape[1]+1+(n-2), n+Z.shape[0])\n",
    "    b = np.zeros(A.shape[0], 1)\n",
    "    \n",
    "    # Include the data−fitting equations\n",
    "    k = 0 \n",
    "    for i in range(0, Z.shape[0]):\n",
    "        for j in range(0, Z.shape[1]):\n",
    "            wij = w[Z[i,j]]\n",
    "            A[k, Z[i,j]] = wij\n",
    "            A[k, n+i] = -wij\n",
    "            b[k, 0] = wij*B[j]\n",
    "            k+=1\n",
    "    \n",
    "    # Fix the curve by setting its middle value to 0\n",
    "    A[k, 128] = 1\n",
    "    k+=1\n",
    "    \n",
    "    # Include the smoothness equations\n",
    "    for i in range(0, n-2):\n",
    "        A[k, i] = l*w[i]\n",
    "        A[k, i+1] = -2*l*w[i+1]\n",
    "        A[k, i+2] = l*w(i+1)\n",
    "        k+=1\n",
    "    \n",
    "    # Solve the system using SVD\n",
    "        x = np.linalg.lstsq(A, b)[0]\n",
    "        g = x[:n]\n",
    "        lE = x[n:]"
   ]
  },
  {
   "cell_type": "code",
   "execution_count": null,
   "metadata": {},
   "outputs": [],
   "source": []
  }
 ],
 "metadata": {
  "kernelspec": {
   "display_name": "Python 3",
   "language": "python",
   "name": "python3"
  },
  "language_info": {
   "codemirror_mode": {
    "name": "ipython",
    "version": 3
   },
   "file_extension": ".py",
   "mimetype": "text/x-python",
   "name": "python",
   "nbconvert_exporter": "python",
   "pygments_lexer": "ipython3",
   "version": "3.8.1"
  }
 },
 "nbformat": 4,
 "nbformat_minor": 4
}
